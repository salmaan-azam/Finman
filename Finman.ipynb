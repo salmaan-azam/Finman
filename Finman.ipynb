{
  "nbformat": 4,
  "nbformat_minor": 0,
  "metadata": {
    "colab": {
      "name": "Finman.ipynb",
      "provenance": [],
      "collapsed_sections": [],
      "include_colab_link": true
    },
    "kernelspec": {
      "name": "python3",
      "display_name": "Python 3"
    },
    "accelerator": "GPU"
  },
  "cells": [
    {
      "cell_type": "markdown",
      "metadata": {
        "id": "view-in-github",
        "colab_type": "text"
      },
      "source": [
        "<a href=\"https://colab.research.google.com/github/salmaan-azam/Finman/blob/main/Finman.ipynb\" target=\"_parent\"><img src=\"https://colab.research.google.com/assets/colab-badge.svg\" alt=\"Open In Colab\"/></a>"
      ]
    },
    {
      "cell_type": "code",
      "metadata": {
        "colab": {
          "base_uri": "https://localhost:8080/"
        },
        "id": "lndYJmi35Bcf",
        "outputId": "e5a31191-82b0-421f-de9c-c8b912d79e20"
      },
      "source": [
        "from google.colab import drive\n",
        "drive.mount('/content/gdrive')"
      ],
      "execution_count": null,
      "outputs": [
        {
          "output_type": "stream",
          "text": [
            "Mounted at /content/gdrive\n"
          ],
          "name": "stdout"
        }
      ]
    },
    {
      "cell_type": "code",
      "metadata": {
        "id": "U5tGYLUI5DOD"
      },
      "source": [
        "import pandas as pd\n",
        "train = pd.read_csv('/content/gdrive/MyDrive/Finman/train_Df64byy.csv')\n",
        "test = pd.read_csv('/content/gdrive/MyDrive/Finman/test_YCcRUnU.csv')"
      ],
      "execution_count": null,
      "outputs": []
    },
    {
      "cell_type": "code",
      "metadata": {
        "id": "pJRuEHVD5NOP"
      },
      "source": [
        "train = train.drop(columns=['ID','Region_Code'])"
      ],
      "execution_count": null,
      "outputs": []
    },
    {
      "cell_type": "code",
      "metadata": {
        "id": "oiwqwNXey6lZ"
      },
      "source": [
        "ids = test['ID']\n",
        "test = test.drop(columns=['ID','Region_Code'])"
      ],
      "execution_count": null,
      "outputs": []
    },
    {
      "cell_type": "code",
      "metadata": {
        "colab": {
          "base_uri": "https://localhost:8080/",
          "height": 456
        },
        "id": "xir_IHwNSEiE",
        "outputId": "40954699-4f71-4c55-9f7e-aa2ba3718807"
      },
      "source": [
        "train"
      ],
      "execution_count": null,
      "outputs": [
        {
          "output_type": "execute_result",
          "data": {
            "text/html": [
              "<div>\n",
              "<style scoped>\n",
              "    .dataframe tbody tr th:only-of-type {\n",
              "        vertical-align: middle;\n",
              "    }\n",
              "\n",
              "    .dataframe tbody tr th {\n",
              "        vertical-align: top;\n",
              "    }\n",
              "\n",
              "    .dataframe thead th {\n",
              "        text-align: right;\n",
              "    }\n",
              "</style>\n",
              "<table border=\"1\" class=\"dataframe\">\n",
              "  <thead>\n",
              "    <tr style=\"text-align: right;\">\n",
              "      <th></th>\n",
              "      <th>City_Code</th>\n",
              "      <th>Accomodation_Type</th>\n",
              "      <th>Reco_Insurance_Type</th>\n",
              "      <th>Upper_Age</th>\n",
              "      <th>Lower_Age</th>\n",
              "      <th>Is_Spouse</th>\n",
              "      <th>Health Indicator</th>\n",
              "      <th>Holding_Policy_Duration</th>\n",
              "      <th>Holding_Policy_Type</th>\n",
              "      <th>Reco_Policy_Cat</th>\n",
              "      <th>Reco_Policy_Premium</th>\n",
              "      <th>Response</th>\n",
              "    </tr>\n",
              "  </thead>\n",
              "  <tbody>\n",
              "    <tr>\n",
              "      <th>0</th>\n",
              "      <td>C3</td>\n",
              "      <td>Rented</td>\n",
              "      <td>Individual</td>\n",
              "      <td>36</td>\n",
              "      <td>36</td>\n",
              "      <td>No</td>\n",
              "      <td>X1</td>\n",
              "      <td>14+</td>\n",
              "      <td>3.0</td>\n",
              "      <td>22</td>\n",
              "      <td>11628.0</td>\n",
              "      <td>0</td>\n",
              "    </tr>\n",
              "    <tr>\n",
              "      <th>1</th>\n",
              "      <td>C5</td>\n",
              "      <td>Owned</td>\n",
              "      <td>Joint</td>\n",
              "      <td>75</td>\n",
              "      <td>22</td>\n",
              "      <td>No</td>\n",
              "      <td>X2</td>\n",
              "      <td>NaN</td>\n",
              "      <td>NaN</td>\n",
              "      <td>22</td>\n",
              "      <td>30510.0</td>\n",
              "      <td>0</td>\n",
              "    </tr>\n",
              "    <tr>\n",
              "      <th>2</th>\n",
              "      <td>C5</td>\n",
              "      <td>Owned</td>\n",
              "      <td>Individual</td>\n",
              "      <td>32</td>\n",
              "      <td>32</td>\n",
              "      <td>No</td>\n",
              "      <td>NaN</td>\n",
              "      <td>1.0</td>\n",
              "      <td>1.0</td>\n",
              "      <td>19</td>\n",
              "      <td>7450.0</td>\n",
              "      <td>1</td>\n",
              "    </tr>\n",
              "    <tr>\n",
              "      <th>3</th>\n",
              "      <td>C24</td>\n",
              "      <td>Owned</td>\n",
              "      <td>Joint</td>\n",
              "      <td>52</td>\n",
              "      <td>48</td>\n",
              "      <td>No</td>\n",
              "      <td>X1</td>\n",
              "      <td>14+</td>\n",
              "      <td>3.0</td>\n",
              "      <td>19</td>\n",
              "      <td>17780.0</td>\n",
              "      <td>0</td>\n",
              "    </tr>\n",
              "    <tr>\n",
              "      <th>4</th>\n",
              "      <td>C8</td>\n",
              "      <td>Rented</td>\n",
              "      <td>Individual</td>\n",
              "      <td>44</td>\n",
              "      <td>44</td>\n",
              "      <td>No</td>\n",
              "      <td>X2</td>\n",
              "      <td>3.0</td>\n",
              "      <td>1.0</td>\n",
              "      <td>16</td>\n",
              "      <td>10404.0</td>\n",
              "      <td>0</td>\n",
              "    </tr>\n",
              "    <tr>\n",
              "      <th>...</th>\n",
              "      <td>...</td>\n",
              "      <td>...</td>\n",
              "      <td>...</td>\n",
              "      <td>...</td>\n",
              "      <td>...</td>\n",
              "      <td>...</td>\n",
              "      <td>...</td>\n",
              "      <td>...</td>\n",
              "      <td>...</td>\n",
              "      <td>...</td>\n",
              "      <td>...</td>\n",
              "      <td>...</td>\n",
              "    </tr>\n",
              "    <tr>\n",
              "      <th>50877</th>\n",
              "      <td>C4</td>\n",
              "      <td>Rented</td>\n",
              "      <td>Individual</td>\n",
              "      <td>22</td>\n",
              "      <td>22</td>\n",
              "      <td>No</td>\n",
              "      <td>X3</td>\n",
              "      <td>NaN</td>\n",
              "      <td>NaN</td>\n",
              "      <td>18</td>\n",
              "      <td>7704.0</td>\n",
              "      <td>0</td>\n",
              "    </tr>\n",
              "    <tr>\n",
              "      <th>50878</th>\n",
              "      <td>C5</td>\n",
              "      <td>Rented</td>\n",
              "      <td>Individual</td>\n",
              "      <td>27</td>\n",
              "      <td>27</td>\n",
              "      <td>No</td>\n",
              "      <td>X3</td>\n",
              "      <td>7.0</td>\n",
              "      <td>3.0</td>\n",
              "      <td>4</td>\n",
              "      <td>5408.0</td>\n",
              "      <td>0</td>\n",
              "    </tr>\n",
              "    <tr>\n",
              "      <th>50879</th>\n",
              "      <td>C1</td>\n",
              "      <td>Rented</td>\n",
              "      <td>Individual</td>\n",
              "      <td>63</td>\n",
              "      <td>63</td>\n",
              "      <td>No</td>\n",
              "      <td>X2</td>\n",
              "      <td>14+</td>\n",
              "      <td>1.0</td>\n",
              "      <td>12</td>\n",
              "      <td>11374.0</td>\n",
              "      <td>0</td>\n",
              "    </tr>\n",
              "    <tr>\n",
              "      <th>50880</th>\n",
              "      <td>C1</td>\n",
              "      <td>Owned</td>\n",
              "      <td>Joint</td>\n",
              "      <td>71</td>\n",
              "      <td>49</td>\n",
              "      <td>No</td>\n",
              "      <td>X2</td>\n",
              "      <td>2.0</td>\n",
              "      <td>2.0</td>\n",
              "      <td>16</td>\n",
              "      <td>28179.2</td>\n",
              "      <td>1</td>\n",
              "    </tr>\n",
              "    <tr>\n",
              "      <th>50881</th>\n",
              "      <td>C3</td>\n",
              "      <td>Rented</td>\n",
              "      <td>Individual</td>\n",
              "      <td>24</td>\n",
              "      <td>24</td>\n",
              "      <td>No</td>\n",
              "      <td>X3</td>\n",
              "      <td>2.0</td>\n",
              "      <td>3.0</td>\n",
              "      <td>18</td>\n",
              "      <td>11424.0</td>\n",
              "      <td>0</td>\n",
              "    </tr>\n",
              "  </tbody>\n",
              "</table>\n",
              "<p>50882 rows × 12 columns</p>\n",
              "</div>"
            ],
            "text/plain": [
              "      City_Code Accomodation_Type  ... Reco_Policy_Premium  Response\n",
              "0            C3            Rented  ...             11628.0         0\n",
              "1            C5             Owned  ...             30510.0         0\n",
              "2            C5             Owned  ...              7450.0         1\n",
              "3           C24             Owned  ...             17780.0         0\n",
              "4            C8            Rented  ...             10404.0         0\n",
              "...         ...               ...  ...                 ...       ...\n",
              "50877        C4            Rented  ...              7704.0         0\n",
              "50878        C5            Rented  ...              5408.0         0\n",
              "50879        C1            Rented  ...             11374.0         0\n",
              "50880        C1             Owned  ...             28179.2         1\n",
              "50881        C3            Rented  ...             11424.0         0\n",
              "\n",
              "[50882 rows x 12 columns]"
            ]
          },
          "metadata": {
            "tags": []
          },
          "execution_count": 5
        }
      ]
    },
    {
      "cell_type": "markdown",
      "metadata": {
        "id": "wEzYYGMnQ8dQ"
      },
      "source": [
        "#### Missing Value Imputation"
      ]
    },
    {
      "cell_type": "code",
      "metadata": {
        "id": "hQXRlp_bQ6hG"
      },
      "source": [
        "#train['Health Indicator'].fillna('other', inplace = True)\n",
        "train['Holding_Policy_Duration'].fillna('0.0', inplace = True)\n",
        "train['Holding_Policy_Type'].fillna(0.0, inplace = True)"
      ],
      "execution_count": null,
      "outputs": []
    },
    {
      "cell_type": "code",
      "metadata": {
        "colab": {
          "base_uri": "https://localhost:8080/"
        },
        "id": "S3rLUUVRRIgl",
        "outputId": "adb3386f-fde0-40d6-bcd7-1785586824af"
      },
      "source": [
        "train.isnull().sum()"
      ],
      "execution_count": null,
      "outputs": [
        {
          "output_type": "execute_result",
          "data": {
            "text/plain": [
              "City_Code                      0\n",
              "Accomodation_Type              0\n",
              "Reco_Insurance_Type            0\n",
              "Upper_Age                      0\n",
              "Lower_Age                      0\n",
              "Is_Spouse                      0\n",
              "Health Indicator           11691\n",
              "Holding_Policy_Duration    20251\n",
              "Holding_Policy_Type        20251\n",
              "Reco_Policy_Cat                0\n",
              "Reco_Policy_Premium            0\n",
              "Response                       0\n",
              "dtype: int64"
            ]
          },
          "metadata": {
            "tags": []
          },
          "execution_count": 6
        }
      ]
    },
    {
      "cell_type": "code",
      "metadata": {
        "id": "j0H8B933yStW"
      },
      "source": [
        "test['Health Indicator'].fillna('other', inplace = True)\n",
        "test['Holding_Policy_Duration'].fillna('0.0', inplace = True)\n",
        "test['Holding_Policy_Type'].fillna(0.0, inplace = True)"
      ],
      "execution_count": null,
      "outputs": []
    },
    {
      "cell_type": "code",
      "metadata": {
        "id": "RKKH1x_XVRSl"
      },
      "source": [
        "# Change train['Holding_Policy_Duration'] to numbers \n",
        "# train['Holding_Policy_Duration'] = [str(i).replace('14+','14') for i in train['Holding_Policy_Duration']]\n",
        "# train['Holding_Policy_Duration'] = train['Holding_Policy_Duration'].astype(float)"
      ],
      "execution_count": null,
      "outputs": []
    },
    {
      "cell_type": "code",
      "metadata": {
        "colab": {
          "base_uri": "https://localhost:8080/"
        },
        "id": "o1jvK8fAab-h",
        "outputId": "43a60886-c7f4-4074-d72f-02204f0ee3d6"
      },
      "source": [
        "train.info()"
      ],
      "execution_count": null,
      "outputs": [
        {
          "output_type": "stream",
          "text": [
            "<class 'pandas.core.frame.DataFrame'>\n",
            "RangeIndex: 50882 entries, 0 to 50881\n",
            "Data columns (total 12 columns):\n",
            " #   Column                   Non-Null Count  Dtype  \n",
            "---  ------                   --------------  -----  \n",
            " 0   City_Code                50882 non-null  object \n",
            " 1   Accomodation_Type        50882 non-null  object \n",
            " 2   Reco_Insurance_Type      50882 non-null  object \n",
            " 3   Upper_Age                50882 non-null  int64  \n",
            " 4   Lower_Age                50882 non-null  int64  \n",
            " 5   Is_Spouse                50882 non-null  object \n",
            " 6   Health Indicator         50882 non-null  object \n",
            " 7   Holding_Policy_Duration  50882 non-null  object \n",
            " 8   Holding_Policy_Type      50882 non-null  float64\n",
            " 9   Reco_Policy_Cat          50882 non-null  int64  \n",
            " 10  Reco_Policy_Premium      50882 non-null  float64\n",
            " 11  Response                 50882 non-null  int64  \n",
            "dtypes: float64(2), int64(4), object(6)\n",
            "memory usage: 4.7+ MB\n"
          ],
          "name": "stdout"
        }
      ]
    },
    {
      "cell_type": "code",
      "metadata": {
        "id": "sWwDLSXaatv3"
      },
      "source": [
        "train['Holding_Policy_Type'] = train['Holding_Policy_Type'].astype('str')\n",
        "train['Reco_Policy_Cat'] = train['Reco_Policy_Cat'].astype('str')"
      ],
      "execution_count": null,
      "outputs": []
    },
    {
      "cell_type": "code",
      "metadata": {
        "id": "ULr2hqahygOH"
      },
      "source": [
        "test['Holding_Policy_Type'] = test['Holding_Policy_Type'].astype('str')\n",
        "test['Reco_Policy_Cat'] = test['Reco_Policy_Cat'].astype('str')"
      ],
      "execution_count": null,
      "outputs": []
    },
    {
      "cell_type": "markdown",
      "metadata": {
        "id": "KyqFKlOl6Fgd"
      },
      "source": [
        "#### Train-Test Split"
      ]
    },
    {
      "cell_type": "code",
      "metadata": {
        "id": "knNsE3ce5SUK"
      },
      "source": [
        "y = train['Response']\n",
        "train = train.drop(columns='Response', axis = 1)"
      ],
      "execution_count": null,
      "outputs": []
    },
    {
      "cell_type": "code",
      "metadata": {
        "id": "I5dlbo2m6XhW"
      },
      "source": [
        "from sklearn.model_selection import train_test_split\n",
        "x_train, x_val, y_train, y_val = train_test_split(train , y, test_size=0.2)"
      ],
      "execution_count": null,
      "outputs": []
    },
    {
      "cell_type": "code",
      "metadata": {
        "colab": {
          "base_uri": "https://localhost:8080/",
          "height": 241
        },
        "id": "4qeFDpECTwUM",
        "outputId": "a5eaef8c-1749-43cb-fe4e-cc803b689dd4"
      },
      "source": [
        "x_train.head()"
      ],
      "execution_count": null,
      "outputs": [
        {
          "output_type": "execute_result",
          "data": {
            "text/html": [
              "<div>\n",
              "<style scoped>\n",
              "    .dataframe tbody tr th:only-of-type {\n",
              "        vertical-align: middle;\n",
              "    }\n",
              "\n",
              "    .dataframe tbody tr th {\n",
              "        vertical-align: top;\n",
              "    }\n",
              "\n",
              "    .dataframe thead th {\n",
              "        text-align: right;\n",
              "    }\n",
              "</style>\n",
              "<table border=\"1\" class=\"dataframe\">\n",
              "  <thead>\n",
              "    <tr style=\"text-align: right;\">\n",
              "      <th></th>\n",
              "      <th>City_Code</th>\n",
              "      <th>Accomodation_Type</th>\n",
              "      <th>Reco_Insurance_Type</th>\n",
              "      <th>Upper_Age</th>\n",
              "      <th>Lower_Age</th>\n",
              "      <th>Is_Spouse</th>\n",
              "      <th>Health Indicator</th>\n",
              "      <th>Holding_Policy_Duration</th>\n",
              "      <th>Holding_Policy_Type</th>\n",
              "      <th>Reco_Policy_Cat</th>\n",
              "      <th>Reco_Policy_Premium</th>\n",
              "    </tr>\n",
              "  </thead>\n",
              "  <tbody>\n",
              "    <tr>\n",
              "      <th>12764</th>\n",
              "      <td>C10</td>\n",
              "      <td>Owned</td>\n",
              "      <td>Individual</td>\n",
              "      <td>67</td>\n",
              "      <td>67</td>\n",
              "      <td>No</td>\n",
              "      <td>X2</td>\n",
              "      <td>5.0</td>\n",
              "      <td>4.0</td>\n",
              "      <td>18</td>\n",
              "      <td>19744.0</td>\n",
              "    </tr>\n",
              "    <tr>\n",
              "      <th>5545</th>\n",
              "      <td>C18</td>\n",
              "      <td>Rented</td>\n",
              "      <td>Individual</td>\n",
              "      <td>22</td>\n",
              "      <td>22</td>\n",
              "      <td>No</td>\n",
              "      <td>X1</td>\n",
              "      <td>NaN</td>\n",
              "      <td>nan</td>\n",
              "      <td>20</td>\n",
              "      <td>9688.0</td>\n",
              "    </tr>\n",
              "    <tr>\n",
              "      <th>17297</th>\n",
              "      <td>C1</td>\n",
              "      <td>Owned</td>\n",
              "      <td>Individual</td>\n",
              "      <td>75</td>\n",
              "      <td>75</td>\n",
              "      <td>No</td>\n",
              "      <td>X1</td>\n",
              "      <td>1.0</td>\n",
              "      <td>3.0</td>\n",
              "      <td>19</td>\n",
              "      <td>24662.0</td>\n",
              "    </tr>\n",
              "    <tr>\n",
              "      <th>31044</th>\n",
              "      <td>C10</td>\n",
              "      <td>Owned</td>\n",
              "      <td>Individual</td>\n",
              "      <td>37</td>\n",
              "      <td>37</td>\n",
              "      <td>No</td>\n",
              "      <td>NaN</td>\n",
              "      <td>9.0</td>\n",
              "      <td>3.0</td>\n",
              "      <td>18</td>\n",
              "      <td>8112.0</td>\n",
              "    </tr>\n",
              "    <tr>\n",
              "      <th>15379</th>\n",
              "      <td>C2</td>\n",
              "      <td>Owned</td>\n",
              "      <td>Individual</td>\n",
              "      <td>45</td>\n",
              "      <td>45</td>\n",
              "      <td>No</td>\n",
              "      <td>NaN</td>\n",
              "      <td>11.0</td>\n",
              "      <td>3.0</td>\n",
              "      <td>3</td>\n",
              "      <td>14220.0</td>\n",
              "    </tr>\n",
              "  </tbody>\n",
              "</table>\n",
              "</div>"
            ],
            "text/plain": [
              "      City_Code Accomodation_Type  ... Reco_Policy_Cat  Reco_Policy_Premium\n",
              "12764       C10             Owned  ...              18              19744.0\n",
              "5545        C18            Rented  ...              20               9688.0\n",
              "17297        C1             Owned  ...              19              24662.0\n",
              "31044       C10             Owned  ...              18               8112.0\n",
              "15379        C2             Owned  ...               3              14220.0\n",
              "\n",
              "[5 rows x 11 columns]"
            ]
          },
          "metadata": {
            "tags": []
          },
          "execution_count": 11
        }
      ]
    },
    {
      "cell_type": "code",
      "metadata": {
        "colab": {
          "base_uri": "https://localhost:8080/"
        },
        "id": "DHk6smHL6YTi",
        "outputId": "2e21b702-ef9e-48b7-8fed-bf4c8f481879"
      },
      "source": [
        "print(x_train.shape)\n",
        "print(y_train.shape)\n",
        "print(x_val.shape)\n",
        "print(y_val.shape)"
      ],
      "execution_count": null,
      "outputs": [
        {
          "output_type": "stream",
          "text": [
            "(40705, 11)\n",
            "(40705,)\n",
            "(10177, 11)\n",
            "(10177,)\n"
          ],
          "name": "stdout"
        }
      ]
    },
    {
      "cell_type": "code",
      "metadata": {
        "colab": {
          "base_uri": "https://localhost:8080/"
        },
        "id": "vMhvedluzJTm",
        "outputId": "d662ce28-650f-4a6e-ec29-7518f8cddf21"
      },
      "source": [
        "test.shape"
      ],
      "execution_count": null,
      "outputs": [
        {
          "output_type": "execute_result",
          "data": {
            "text/plain": [
              "(21805, 11)"
            ]
          },
          "metadata": {
            "tags": []
          },
          "execution_count": 13
        }
      ]
    },
    {
      "cell_type": "code",
      "metadata": {
        "colab": {
          "base_uri": "https://localhost:8080/"
        },
        "id": "vLn5YjrlUU4L",
        "outputId": "5944348d-da62-42b9-89d1-f1ada6c99e2f"
      },
      "source": [
        "x_train.info()"
      ],
      "execution_count": null,
      "outputs": [
        {
          "output_type": "stream",
          "text": [
            "<class 'pandas.core.frame.DataFrame'>\n",
            "Int64Index: 40705 entries, 12764 to 38139\n",
            "Data columns (total 11 columns):\n",
            " #   Column                   Non-Null Count  Dtype  \n",
            "---  ------                   --------------  -----  \n",
            " 0   City_Code                40705 non-null  object \n",
            " 1   Accomodation_Type        40705 non-null  object \n",
            " 2   Reco_Insurance_Type      40705 non-null  object \n",
            " 3   Upper_Age                40705 non-null  int64  \n",
            " 4   Lower_Age                40705 non-null  int64  \n",
            " 5   Is_Spouse                40705 non-null  object \n",
            " 6   Health Indicator         31383 non-null  object \n",
            " 7   Holding_Policy_Duration  24508 non-null  object \n",
            " 8   Holding_Policy_Type      40705 non-null  object \n",
            " 9   Reco_Policy_Cat          40705 non-null  object \n",
            " 10  Reco_Policy_Premium      40705 non-null  float64\n",
            "dtypes: float64(1), int64(2), object(8)\n",
            "memory usage: 3.7+ MB\n"
          ],
          "name": "stdout"
        }
      ]
    },
    {
      "cell_type": "markdown",
      "metadata": {
        "id": "NybN6Ucz7iSQ"
      },
      "source": [
        "#### Categorical Variable Encoding"
      ]
    },
    {
      "cell_type": "code",
      "metadata": {
        "id": "Fcs8R32aUBiI"
      },
      "source": [
        "num_col = ['Upper_Age', 'Lower_Age', 'Reco_Policy_Premium']\n",
        "cat_col = ['City_Code', 'Accomodation_Type', 'Reco_Insurance_Type', 'Is_Spouse', 'Health Indicator', 'Holding_Policy_Duration',\n",
        "       'Holding_Policy_Type', 'Reco_Policy_Cat']"
      ],
      "execution_count": null,
      "outputs": []
    },
    {
      "cell_type": "code",
      "metadata": {
        "id": "iUBtAuWyfyQv"
      },
      "source": [
        "def one_hot_encode(x):\n",
        "  print(f'Starting encoding for {x}')\n",
        "  from sklearn.preprocessing import OneHotEncoder\n",
        "  enc = OneHotEncoder(drop='first')\n",
        "  a = enc.fit_transform(x_train[x].values.reshape(-1,1))\n",
        "  b = enc.transform(x_val[x].values.reshape(-1,1))\n",
        "  print(f'One hot encoding done for {x}')\n",
        "  return a, b"
      ],
      "execution_count": null,
      "outputs": []
    },
    {
      "cell_type": "code",
      "metadata": {
        "colab": {
          "base_uri": "https://localhost:8080/"
        },
        "id": "tf0lTWVngtxc",
        "outputId": "a24d370d-a4aa-4656-f07b-c002e0c40b5f"
      },
      "source": [
        "t1, v1 = one_hot_encode(cat_col[0])\n",
        "t2, v2 = one_hot_encode(cat_col[1])\n",
        "t3, v3 = one_hot_encode(cat_col[2])\n",
        "t4, v4 = one_hot_encode(cat_col[3])\n",
        "#t5, v5 = one_hot_encode(cat_col[4])\n",
        "t6, v6 = one_hot_encode(cat_col[5])\n",
        "t7, v7 = one_hot_encode(cat_col[6])\n",
        "t8, v8 = one_hot_encode(cat_col[7])"
      ],
      "execution_count": null,
      "outputs": [
        {
          "output_type": "stream",
          "text": [
            "Starting encoding for City_Code\n",
            "One hot encoding done for City_Code\n",
            "Starting encoding for Accomodation_Type\n",
            "One hot encoding done for Accomodation_Type\n",
            "Starting encoding for Reco_Insurance_Type\n",
            "One hot encoding done for Reco_Insurance_Type\n",
            "Starting encoding for Is_Spouse\n",
            "One hot encoding done for Is_Spouse\n",
            "Starting encoding for Holding_Policy_Duration\n",
            "One hot encoding done for Holding_Policy_Duration\n",
            "Starting encoding for Holding_Policy_Type\n",
            "One hot encoding done for Holding_Policy_Type\n",
            "Starting encoding for Reco_Policy_Cat\n",
            "One hot encoding done for Reco_Policy_Cat\n"
          ],
          "name": "stdout"
        }
      ]
    },
    {
      "cell_type": "code",
      "metadata": {
        "id": "xIwek0s5zSwc"
      },
      "source": [
        "def test_encode(x, y, z):\n",
        "  from sklearn.preprocessing import OneHotEncoder\n",
        "  enc = OneHotEncoder(drop='first')\n",
        "  enc.fit(x[z].values.reshape(-1,1))\n",
        "  b = enc.transform(y[z].values.reshape(-1,1))\n",
        "  print(f'One hot encoding done for {z}')\n",
        "  return b"
      ],
      "execution_count": null,
      "outputs": []
    },
    {
      "cell_type": "code",
      "metadata": {
        "colab": {
          "base_uri": "https://localhost:8080/"
        },
        "id": "EI78-eQ1zsOv",
        "outputId": "0e9cdf74-30fc-4d72-bc14-f2aacbf08c9a"
      },
      "source": [
        "z1 = test_encode(x_train, test, cat_col[0])\n",
        "z2 = test_encode(x_train, test, cat_col[1])\n",
        "z3 = test_encode(x_train, test, cat_col[2])\n",
        "z4 = test_encode(x_train, test, cat_col[3])\n",
        "z5 = test_encode(x_train, test, cat_col[4])\n",
        "z6 = test_encode(x_train, test, cat_col[5])\n",
        "z7 = test_encode(x_train, test, cat_col[6])\n",
        "z8 = test_encode(x_train, test, cat_col[7])"
      ],
      "execution_count": null,
      "outputs": [
        {
          "output_type": "stream",
          "text": [
            "One hot encoding done for City_Code\n",
            "One hot encoding done for Accomodation_Type\n",
            "One hot encoding done for Reco_Insurance_Type\n",
            "One hot encoding done for Is_Spouse\n",
            "One hot encoding done for Health Indicator\n",
            "One hot encoding done for Holding_Policy_Duration\n",
            "One hot encoding done for Holding_Policy_Type\n",
            "One hot encoding done for Reco_Policy_Cat\n"
          ],
          "name": "stdout"
        }
      ]
    },
    {
      "cell_type": "code",
      "metadata": {
        "id": "WF9FE8oNlCSv"
      },
      "source": [
        "def num_encoding(x):\n",
        "  from sklearn.preprocessing import StandardScaler\n",
        "  ss = StandardScaler()\n",
        "  ss.fit(x_train[x].values.reshape(-1,1))\n",
        "  a = ss.transform(x_train[x].values.reshape(-1,1))\n",
        "  b = ss.transform(x_val[x].values.reshape(-1,1))\n",
        "  print(f'standard scaling done for {x}')\n",
        "  return a, b"
      ],
      "execution_count": null,
      "outputs": []
    },
    {
      "cell_type": "code",
      "metadata": {
        "colab": {
          "base_uri": "https://localhost:8080/"
        },
        "id": "41Enk4E9j-nx",
        "outputId": "a4a07284-b1f0-4ab2-b750-2d8415e06572"
      },
      "source": [
        "t9 , v9 = num_encoding(num_col[0])\n",
        "t10 , v10 = num_encoding(num_col[1])\n",
        "t11 , v11 = num_encoding(num_col[2])"
      ],
      "execution_count": null,
      "outputs": [
        {
          "output_type": "stream",
          "text": [
            "standard scaling done for Upper_Age\n",
            "standard scaling done for Lower_Age\n",
            "standard scaling done for Reco_Policy_Premium\n"
          ],
          "name": "stdout"
        }
      ]
    },
    {
      "cell_type": "code",
      "metadata": {
        "id": "x3hSvEvZ0Pxr"
      },
      "source": [
        "def test_num_encoding(x, y, z):\n",
        "  from sklearn.preprocessing import StandardScaler\n",
        "  ss = StandardScaler()\n",
        "  ss.fit(x[z].values.reshape(-1,1))\n",
        "  b = ss.transform(y[z].values.reshape(-1,1))\n",
        "  print(f'standard scaling done for {z}')\n",
        "  return b"
      ],
      "execution_count": null,
      "outputs": []
    },
    {
      "cell_type": "code",
      "metadata": {
        "colab": {
          "base_uri": "https://localhost:8080/"
        },
        "id": "EYdBdIsN0f8m",
        "outputId": "15ee6191-6650-4257-f132-783976a960a0"
      },
      "source": [
        "z9 = test_num_encoding(x_train, test, num_col[0])\n",
        "z10 = test_num_encoding(x_train, test, num_col[1])\n",
        "z11 = test_num_encoding(x_train, test, num_col[2])"
      ],
      "execution_count": null,
      "outputs": [
        {
          "output_type": "stream",
          "text": [
            "standard scaling done for Upper_Age\n",
            "standard scaling done for Lower_Age\n",
            "standard scaling done for Reco_Policy_Premium\n"
          ],
          "name": "stdout"
        }
      ]
    },
    {
      "cell_type": "code",
      "metadata": {
        "id": "2NoEi2vnLNtC"
      },
      "source": [
        "from scipy.sparse import hstack\n",
        "X_train = hstack((t1,t2,t3,t4,t5,t6,t7,t8,t9,t10,t11))\n",
        "X_val = hstack((v1,v2,v3,v4,v5,v6,v7,v8,v9,v10,v11))"
      ],
      "execution_count": null,
      "outputs": []
    },
    {
      "cell_type": "code",
      "metadata": {
        "id": "SyhepL500wan"
      },
      "source": [
        "X_test = hstack((z1,z2,z3,z4,z5,z6,z7,z8,z9,z10,z11))"
      ],
      "execution_count": null,
      "outputs": []
    },
    {
      "cell_type": "code",
      "metadata": {
        "colab": {
          "base_uri": "https://localhost:8080/"
        },
        "id": "rsxy_-YCqNuP",
        "outputId": "91d22fb6-4689-4a85-e815-0aabf4a311aa"
      },
      "source": [
        "print(X_train.shape)\n",
        "print(X_val.shape)"
      ],
      "execution_count": null,
      "outputs": [
        {
          "output_type": "stream",
          "text": [
            "(40705, 90)\n",
            "(10177, 90)\n"
          ],
          "name": "stdout"
        }
      ]
    },
    {
      "cell_type": "code",
      "metadata": {
        "colab": {
          "base_uri": "https://localhost:8080/"
        },
        "id": "SpKrAlpO06Yu",
        "outputId": "1a6072f9-8ccf-4227-a1df-438131c40f18"
      },
      "source": [
        "print(X_test.shape)"
      ],
      "execution_count": null,
      "outputs": [
        {
          "output_type": "stream",
          "text": [
            "(21805, 90)\n"
          ],
          "name": "stdout"
        }
      ]
    },
    {
      "cell_type": "markdown",
      "metadata": {
        "id": "tPOpWIkiq6mG"
      },
      "source": [
        "# Modelling"
      ]
    },
    {
      "cell_type": "markdown",
      "metadata": {
        "id": "GMWy5N-Prc0-"
      },
      "source": [
        "#### Logistic Regression"
      ]
    },
    {
      "cell_type": "code",
      "metadata": {
        "colab": {
          "base_uri": "https://localhost:8080/",
          "height": 525
        },
        "id": "qTsOtuuLsuPc",
        "outputId": "03ab2e31-c510-4a59-f4d0-19213a38b21f"
      },
      "source": [
        "from sklearn.linear_model import SGDClassifier\n",
        "from tqdm import tqdm\n",
        "from sklearn.metrics import roc_auc_score\n",
        "import numpy as np\n",
        "\n",
        "train_auc = []\n",
        "cv_auc = []\n",
        "K = [0.00001, 0.0001, 0.001, 0.01, 0.1, 1, 10, 100, 1000, 10000, 100000]\n",
        "for i in tqdm(K):\n",
        "    clf = SGDClassifier(loss='log', alpha=i, class_weight=\"balanced\")\n",
        "    clf.fit(X_train, y_train)\n",
        "    y_train_pred = clf.predict(X_train)    \n",
        "    y_val_pred = clf.predict(X_val)\n",
        "    print(\"Linear Regression is computed for alpha = \"+str(i))\n",
        "    # roc_auc_score(y_true, y_score) the 2nd parameter should be probability estimates of the positive class\n",
        "    # not the predicted outputs        \n",
        "    train_auc.append(roc_auc_score(y_train, y_train_pred))\n",
        "    cv_auc.append(roc_auc_score(y_val, y_val_pred))\n",
        "\n",
        "\n",
        "from matplotlib import pyplot as plt\n",
        "plt.plot(np.log10(K), train_auc, label='Train AUC')\n",
        "plt.plot(np.log10(K), cv_auc, label='CV AUC')\n",
        "plt.scatter(np.log10(K), train_auc, label='Train AUC points')\n",
        "plt.scatter(np.log10(K), cv_auc, label='CV AUC points')\n",
        "plt.legend()\n",
        "plt.xlabel(\"Log of Alpha : hyperparameter\")\n",
        "plt.ylabel(\"AUC Value\")\n",
        "plt.title(\"AUC Value for Train and Cross Validation Data\")\n",
        "plt.grid()\n",
        "plt.show()\n",
        "print(\"The best value of alpha = \", K[np.argmax(cv_auc)])"
      ],
      "execution_count": null,
      "outputs": [
        {
          "output_type": "stream",
          "text": [
            "  9%|▉         | 1/11 [00:00<00:05,  1.94it/s]"
          ],
          "name": "stderr"
        },
        {
          "output_type": "stream",
          "text": [
            "Linear Regression is computed for alpha = 1e-05\n"
          ],
          "name": "stdout"
        },
        {
          "output_type": "stream",
          "text": [
            " 27%|██▋       | 3/11 [00:00<00:02,  2.99it/s]"
          ],
          "name": "stderr"
        },
        {
          "output_type": "stream",
          "text": [
            "Linear Regression is computed for alpha = 0.0001\n",
            "Linear Regression is computed for alpha = 0.001\n"
          ],
          "name": "stdout"
        },
        {
          "output_type": "stream",
          "text": [
            "\r 45%|████▌     | 5/11 [00:01<00:01,  3.87it/s]"
          ],
          "name": "stderr"
        },
        {
          "output_type": "stream",
          "text": [
            "Linear Regression is computed for alpha = 0.01\n",
            "Linear Regression is computed for alpha = 0.1\n",
            "Linear Regression is computed for alpha = 1\n"
          ],
          "name": "stdout"
        },
        {
          "output_type": "stream",
          "text": [
            " 82%|████████▏ | 9/11 [00:01<00:00,  6.18it/s]"
          ],
          "name": "stderr"
        },
        {
          "output_type": "stream",
          "text": [
            "Linear Regression is computed for alpha = 10\n",
            "Linear Regression is computed for alpha = 100\n",
            "Linear Regression is computed for alpha = 1000\n"
          ],
          "name": "stdout"
        },
        {
          "output_type": "stream",
          "text": [
            "100%|██████████| 11/11 [00:01<00:00,  7.69it/s]\n"
          ],
          "name": "stderr"
        },
        {
          "output_type": "stream",
          "text": [
            "Linear Regression is computed for alpha = 10000\n",
            "Linear Regression is computed for alpha = 100000\n"
          ],
          "name": "stdout"
        },
        {
          "output_type": "display_data",
          "data": {
            "image/png": "[encoded data removed]",
            "text/plain": [
              "<Figure size 432x288 with 1 Axes>"
            ]
          },
          "metadata": {
            "tags": [],
            "needs_background": "light"
          }
        },
        {
          "output_type": "stream",
          "text": [
            "The best value of alpha =  0.001\n"
          ],
          "name": "stdout"
        }
      ]
    },
    {
      "cell_type": "code",
      "metadata": {
        "colab": {
          "base_uri": "https://localhost:8080/"
        },
        "id": "4OWWyf-7t_vW",
        "outputId": "3864172a-1a81-4bff-8039-ce288c5fc600"
      },
      "source": [
        "clf = SGDClassifier(loss='log', alpha=0.001, class_weight=\"balanced\")\n",
        "clf.fit(X_train, y_train)\n",
        "print(f'AUC Value for train data : {roc_auc_score(y_train, clf.predict_proba(X_train)[:, 1])}')\n",
        "print(f'AUC Value for validation data : {roc_auc_score(y_val, clf.predict_proba(X_val)[:, 1])}')\n",
        "print('='*50)"
      ],
      "execution_count": null,
      "outputs": [
        {
          "output_type": "stream",
          "text": [
            "AUC Value for train data : 0.6244854815482831\n",
            "AUC Value for validation data : 0.6220171158511539\n",
            "==================================================\n"
          ],
          "name": "stdout"
        }
      ]
    },
    {
      "cell_type": "code",
      "metadata": {
        "id": "rV5UUul43RJr"
      },
      "source": [
        "pred = pd.Series(clf.predict_proba(X_test)[:, 1], name='Response')\n",
        "fy = pd.concat([ids, pred], axis=1)\n",
        "fy.to_csv('/content/gdrive/MyDrive/Finman/test1.csv', index=False) "
      ],
      "execution_count": null,
      "outputs": []
    },
    {
      "cell_type": "code",
      "metadata": {
        "id": "VZHAicgdxMcp"
      },
      "source": [
        "from sklearn.ensemble import RandomForestClassifier\n",
        "from sklearn.ensemble import GradientBoostingClassifier"
      ],
      "execution_count": null,
      "outputs": []
    },
    {
      "cell_type": "code",
      "metadata": {
        "colab": {
          "base_uri": "https://localhost:8080/"
        },
        "id": "7DjS7pR1x6dp",
        "outputId": "79a478c8-93df-4f87-f1b7-b7f392be8fc9"
      },
      "source": [
        "n_estimators=[5, 10, 50, 100, 200, 500, 1000]\n",
        "max_depth = [2, 3, 4, 5, 6, 7, 8, 9, 10]\n",
        "from sklearn.model_selection import GridSearchCV\n",
        "parameter = {'n_estimators': n_estimators, 'max_depth': max_depth}\n",
        "clf11 = GridSearchCV(RandomForestClassifier(),parameter, cv=4, verbose=1,scoring='roc_auc', n_jobs=-1, return_train_score=True)\n",
        "clf11.fit(X_train, y_train)  "
      ],
      "execution_count": null,
      "outputs": [
        {
          "output_type": "stream",
          "text": [
            "Fitting 4 folds for each of 63 candidates, totalling 252 fits\n"
          ],
          "name": "stdout"
        },
        {
          "output_type": "stream",
          "text": [
            "[Parallel(n_jobs=-1)]: Using backend LokyBackend with 2 concurrent workers.\n",
            "[Parallel(n_jobs=-1)]: Done  46 tasks      | elapsed:   50.5s\n",
            "[Parallel(n_jobs=-1)]: Done 196 tasks      | elapsed:  7.4min\n",
            "[Parallel(n_jobs=-1)]: Done 252 out of 252 | elapsed: 11.2min finished\n"
          ],
          "name": "stderr"
        },
        {
          "output_type": "execute_result",
          "data": {
            "text/plain": [
              "GridSearchCV(cv=4, error_score=nan,\n",
              "             estimator=RandomForestClassifier(bootstrap=True, ccp_alpha=0.0,\n",
              "                                              class_weight=None,\n",
              "                                              criterion='gini', max_depth=None,\n",
              "                                              max_features='auto',\n",
              "                                              max_leaf_nodes=None,\n",
              "                                              max_samples=None,\n",
              "                                              min_impurity_decrease=0.0,\n",
              "                                              min_impurity_split=None,\n",
              "                                              min_samples_leaf=1,\n",
              "                                              min_samples_split=2,\n",
              "                                              min_weight_fraction_leaf=0.0,\n",
              "                                              n_estimators=100, n_jobs=None,\n",
              "                                              oob_score=False,\n",
              "                                              random_state=None, verbose=0,\n",
              "                                              warm_start=False),\n",
              "             iid='deprecated', n_jobs=-1,\n",
              "             param_grid={'max_depth': [2, 3, 4, 5, 6, 7, 8, 9, 10],\n",
              "                         'n_estimators': [5, 10, 50, 100, 200, 500, 1000]},\n",
              "             pre_dispatch='2*n_jobs', refit=True, return_train_score=True,\n",
              "             scoring='roc_auc', verbose=1)"
            ]
          },
          "metadata": {
            "tags": []
          },
          "execution_count": 35
        }
      ]
    },
    {
      "cell_type": "code",
      "metadata": {
        "id": "R51VSrA3zWkv"
      },
      "source": [
        "def heatmap(clf):\n",
        "  import seaborn as sns  \n",
        "  train_score = clf.cv_results_.get('mean_train_score')\n",
        "  test_score = clf.cv_results_.get('mean_test_score')\n",
        "\n",
        "  h1 = pd.DataFrame(train_score.reshape(len(max_depth), len(n_estimators)), index = max_depth, columns = n_estimators)\n",
        "  plt.figure(figsize = (8,5))\n",
        "  a=sns.heatmap(h1, annot=True)\n",
        "  a.yaxis.set_ticklabels(a.yaxis.get_ticklabels(), rotation=0, ha='right', fontsize=10)\n",
        "  a.xaxis.set_ticklabels(a.xaxis.get_ticklabels(), rotation=0, ha='right', fontsize=10)\n",
        "  plt.ylabel('Max Depth', size=12)\n",
        "  plt.xlabel('Number of Tree', size=12)\n",
        "  plt.title('Heat Map of Training Score\\n',size=18)\n",
        "\n",
        "  h2 = pd.DataFrame(test_score.reshape(len(max_depth), len(n_estimators)), index = max_depth, columns = n_estimators)\n",
        "  plt.figure(figsize = (8,5))\n",
        "  a=sns.heatmap(h2, annot=True)\n",
        "  a.yaxis.set_ticklabels(a.yaxis.get_ticklabels(), rotation=0, ha='right', fontsize=10)\n",
        "  a.xaxis.set_ticklabels(a.xaxis.get_ticklabels(), rotation=0, ha='right', fontsize=10)\n",
        "  plt.ylabel('Max Depth', size=12)\n",
        "  plt.xlabel('Number of Tree', size=12)\n",
        "  plt.title('Heat Map of Test Score\\n',size=18)\n",
        "  plt.show()\n",
        "  print(\"The best number of tree = \", clf.best_params_.get('n_estimators'), \" and best depth is : \", clf.best_params_.get('max_depth')) "
      ],
      "execution_count": null,
      "outputs": []
    },
    {
      "cell_type": "code",
      "metadata": {
        "colab": {
          "base_uri": "https://localhost:8080/",
          "height": 754
        },
        "id": "jeDiP3X9zYba",
        "outputId": "7d3aee92-b0a9-45b0-99b3-5a882f319f4e"
      },
      "source": [
        "heatmap(clf11)"
      ],
      "execution_count": null,
      "outputs": [
        {
          "output_type": "display_data",
          "data": {
            "image/png": "[encoded data removed]",
            "text/plain": [
              "<Figure size 576x360 with 2 Axes>"
            ]
          },
          "metadata": {
            "tags": [],
            "needs_background": "light"
          }
        },
        {
          "output_type": "display_data",
          "data": {
            "image/png": "[encoded data removed]",
            "text/plain": [
              "<Figure size 576x360 with 2 Axes>"
            ]
          },
          "metadata": {
            "tags": [],
            "needs_background": "light"
          }
        },
        {
          "output_type": "stream",
          "text": [
            "The best number of tree =  1000  and best depth is :  10\n"
          ],
          "name": "stdout"
        }
      ]
    },
    {
      "cell_type": "code",
      "metadata": {
        "colab": {
          "base_uri": "https://localhost:8080/"
        },
        "id": "IdZkwfRmxApH",
        "outputId": "a215e6a3-88e1-4903-d4ba-7da1196a5a76"
      },
      "source": [
        "clf1 = RandomForestClassifier(n_estimators=1000, max_depth = 10, class_weight='balanced', n_jobs=-1)\n",
        "clf1.fit(X_train, y_train)\n",
        "print(f'AUC Value for train data : {roc_auc_score(y_train, clf1.predict_proba(X_train)[:, 1])}')\n",
        "print(f'AUC Value for validation data : {roc_auc_score(y_val, clf1.predict_proba(X_val)[:, 1])}')\n",
        "print('='*50)"
      ],
      "execution_count": null,
      "outputs": [
        {
          "output_type": "stream",
          "text": [
            "AUC Value for train data : 0.7128186912423353\n",
            "AUC Value for validation data : 0.6501144542660332\n",
            "==================================================\n"
          ],
          "name": "stdout"
        }
      ]
    },
    {
      "cell_type": "code",
      "metadata": {
        "id": "eLWd2Fws2qmC"
      },
      "source": [
        "pred = pd.Series(clf1.predict_proba(X_test)[:, 1], name='Response')\n",
        "fy = pd.concat([ids, pred], axis=1)\n",
        "fy.to_csv('/content/gdrive/MyDrive/Finman/test2.csv', index=False) "
      ],
      "execution_count": null,
      "outputs": []
    },
    {
      "cell_type": "code",
      "metadata": {
        "colab": {
          "base_uri": "https://localhost:8080/"
        },
        "id": "ubqx1Eyg0t3h",
        "outputId": "7c5f456b-8ad4-4d2f-bc23-09e54d409c20"
      },
      "source": [
        "import lightgbm as lgb\n",
        "clf12 = GridSearchCV(lgb.LGBMClassifier(n_jobs=-1, objective='binary', class_weight='balanced', random_seed=32),\n",
        "                           parameter, cv=4, verbose=1,scoring='roc_auc', n_jobs=-1, return_train_score=True)\n",
        "clf12.fit(X_train, y_train)"
      ],
      "execution_count": null,
      "outputs": [
        {
          "output_type": "stream",
          "text": [
            "Fitting 4 folds for each of 63 candidates, totalling 252 fits\n"
          ],
          "name": "stdout"
        },
        {
          "output_type": "stream",
          "text": [
            "[Parallel(n_jobs=-1)]: Using backend LokyBackend with 2 concurrent workers.\n",
            "[Parallel(n_jobs=-1)]: Done  46 tasks      | elapsed:   21.2s\n",
            "[Parallel(n_jobs=-1)]: Done 196 tasks      | elapsed:  3.2min\n",
            "[Parallel(n_jobs=-1)]: Done 252 out of 252 | elapsed:  4.2min finished\n"
          ],
          "name": "stderr"
        },
        {
          "output_type": "execute_result",
          "data": {
            "text/plain": [
              "GridSearchCV(cv=4, error_score=nan,\n",
              "             estimator=LGBMClassifier(boosting_type='gbdt',\n",
              "                                      class_weight='balanced',\n",
              "                                      colsample_bytree=1.0,\n",
              "                                      importance_type='split',\n",
              "                                      learning_rate=0.1, max_depth=-1,\n",
              "                                      min_child_samples=20,\n",
              "                                      min_child_weight=0.001,\n",
              "                                      min_split_gain=0.0, n_estimators=100,\n",
              "                                      n_jobs=-1, num_leaves=31,\n",
              "                                      objective='binary', random_seed=32,\n",
              "                                      random_state=None, reg_alpha=0.0,\n",
              "                                      reg_lambda=0.0, silent=True,\n",
              "                                      subsample=1.0, subsample_for_bin=200000,\n",
              "                                      subsample_freq=0),\n",
              "             iid='deprecated', n_jobs=-1,\n",
              "             param_grid={'max_depth': [2, 3, 4, 5, 6, 7, 8, 9, 10],\n",
              "                         'n_estimators': [5, 10, 50, 100, 200, 500, 1000]},\n",
              "             pre_dispatch='2*n_jobs', refit=True, return_train_score=True,\n",
              "             scoring='roc_auc', verbose=1)"
            ]
          },
          "metadata": {
            "tags": []
          },
          "execution_count": 44
        }
      ]
    },
    {
      "cell_type": "code",
      "metadata": {
        "id": "MB4YrV7YshWP",
        "colab": {
          "base_uri": "https://localhost:8080/",
          "height": 754
        },
        "outputId": "a747de70-3853-4d0c-e30e-32d4017c13a1"
      },
      "source": [
        "heatmap(clf12)"
      ],
      "execution_count": null,
      "outputs": [
        {
          "output_type": "display_data",
          "data": {
            "image/png": "[encoded data removed]",
            "text/plain": [
              "<Figure size 576x360 with 2 Axes>"
            ]
          },
          "metadata": {
            "tags": [],
            "needs_background": "light"
          }
        },
        {
          "output_type": "display_data",
          "data": {
            "image/png": "[encoded data removed]",
            "text/plain": [
              "<Figure size 576x360 with 2 Axes>"
            ]
          },
          "metadata": {
            "tags": [],
            "needs_background": "light"
          }
        },
        {
          "output_type": "stream",
          "text": [
            "The best number of tree =  1000  and best depth is :  3\n"
          ],
          "name": "stdout"
        }
      ]
    },
    {
      "cell_type": "code",
      "metadata": {
        "id": "PuQnHQMgHbSk",
        "colab": {
          "base_uri": "https://localhost:8080/"
        },
        "outputId": "6c4b3e80-c47a-43ac-cef6-d499c1e2b6de"
      },
      "source": [
        "clf2 = lgb.LGBMClassifier(n_estimators=500, max_depth= 2, class_weight='balanced', objective='binary', n_jobs=-1)\n",
        "clf2.fit(X_train, y_train)\n",
        "print(f'AUC Value for train data : {roc_auc_score(y_train, clf1.predict_proba(X_train)[:, 1])}')\n",
        "print(f'AUC Value for validation data : {roc_auc_score(y_val, clf1.predict_proba(X_val)[:, 1])}')\n",
        "print('='*50)"
      ],
      "execution_count": null,
      "outputs": [
        {
          "output_type": "stream",
          "text": [
            "AUC Value for train data : 0.7128186912423353\n",
            "AUC Value for validation data : 0.6501144542660332\n",
            "==================================================\n"
          ],
          "name": "stdout"
        }
      ]
    },
    {
      "cell_type": "code",
      "metadata": {
        "colab": {
          "base_uri": "https://localhost:8080/"
        },
        "id": "9Utzi3BR5CkB",
        "outputId": "94cf9ad4-4c57-4cea-c774-60c8092b8917"
      },
      "source": [
        "pred = pd.Series(clf2.predict_proba(X_test)[:, 1], name='Response')\n",
        "fy = pd.concat([ids, pred], axis=1)\n",
        "fy.to_csv('/content/gdrive/MyDrive/Finman/test3.csv', index=False) "
      ],
      "execution_count": null,
      "outputs": [
        {
          "output_type": "stream",
          "text": [
            "/usr/local/lib/python3.7/dist-packages/lightgbm/basic.py:478: UserWarning: Converting data to scipy sparse matrix.\n",
            "  warnings.warn('Converting data to scipy sparse matrix.')\n"
          ],
          "name": "stderr"
        }
      ]
    },
    {
      "cell_type": "code",
      "metadata": {
        "colab": {
          "base_uri": "https://localhost:8080/"
        },
        "id": "8lT14ydM1BLF",
        "outputId": "b2b4c3c8-a824-4a97-ecaa-871a37984b9a"
      },
      "source": [
        "from google.colab import drive\n",
        "drive.mount('/content/gdrive')"
      ],
      "execution_count": null,
      "outputs": [
        {
          "output_type": "stream",
          "text": [
            "Mounted at /content/gdrive\n"
          ],
          "name": "stdout"
        }
      ]
    },
    {
      "cell_type": "code",
      "metadata": {
        "id": "EScdmITJ5XUd"
      },
      "source": [
        "import dill\n",
        "dill.load_session('/content/gdrive/MyDrive/Finman/prep.pkl')"
      ],
      "execution_count": null,
      "outputs": []
    },
    {
      "cell_type": "code",
      "metadata": {
        "id": "JGuRlLgR55NF"
      },
      "source": [
        "dill.dump_session('/content/gdrive/MyDrive/Finman/prep.pkl')"
      ],
      "execution_count": null,
      "outputs": []
    },
    {
      "cell_type": "code",
      "metadata": {
        "id": "kgZWT8LTw5cA"
      },
      "source": [
        "X_train = X_train.todense()\n",
        "X_val = X_val.todense()\n",
        "X_test = X_test.todense()"
      ],
      "execution_count": null,
      "outputs": []
    },
    {
      "cell_type": "code",
      "metadata": {
        "id": "C6EuSdhUsJ9T"
      },
      "source": [
        "import tensorflow as tf\n",
        "he = tf.keras.initializers.HeNormal()"
      ],
      "execution_count": null,
      "outputs": []
    },
    {
      "cell_type": "code",
      "metadata": {
        "id": "Rp1FJIJBtKit"
      },
      "source": [
        "from keras.callbacks import ModelCheckpoint\n",
        "filename=\"model1.hdf5\"\n",
        "checkpoint = ModelCheckpoint(filename, monitor='val_auc', verbose=1, save_best_only=True, mode='max')"
      ],
      "execution_count": null,
      "outputs": []
    },
    {
      "cell_type": "code",
      "metadata": {
        "colab": {
          "base_uri": "https://localhost:8080/"
        },
        "id": "rrJJd1p76Bfi",
        "outputId": "d3e8cfc4-bc6a-4bb4-8d27-828a4c46b817"
      },
      "source": [
        "from keras.models import Sequential\n",
        "from keras.layers import Dense, Flatten\n",
        "\n",
        "model = Sequential([Dense(128, kernel_initializer=he, activation='relu', input_shape=(90,)),\n",
        "                    Dense(128, kernel_initializer=he, activation='relu'), \n",
        "                    Dense(64, kernel_initializer=he, activation='relu'), \n",
        "                    Dense(32, kernel_initializer=he, activation='relu'), \n",
        "                    Dense(8, kernel_initializer=he, activation='relu'), \n",
        "                    Dense(1, activation='sigmoid'),])\n",
        "model.compile(optimizer=tf.keras.optimizers.Adam(learning_rate=0.001), loss='binary_crossentropy',  metrics=[['accuracy', tf.keras.metrics.AUC()]])\n",
        "\n",
        "hist = model.fit(X_train, y_train, epochs=25, validation_data=(X_val, y_val), callbacks=[checkpoint])"
      ],
      "execution_count": null,
      "outputs": [
        {
          "output_type": "stream",
          "text": [
            "Epoch 1/25\n",
            "1273/1273 [==============================] - 6s 4ms/step - loss: 0.5538 - accuracy: 0.7549 - auc: 0.5640 - val_loss: 0.5174 - val_accuracy: 0.7717 - val_auc: 0.6316\n",
            "\n",
            "Epoch 00001: val_auc improved from -inf to 0.63160, saving model to model1.hdf5\n",
            "Epoch 2/25\n",
            "1273/1273 [==============================] - 5s 4ms/step - loss: 0.5280 - accuracy: 0.7569 - auc: 0.6489 - val_loss: 0.5134 - val_accuracy: 0.7716 - val_auc: 0.6458\n",
            "\n",
            "Epoch 00002: val_auc improved from 0.63160 to 0.64575, saving model to model1.hdf5\n",
            "Epoch 3/25\n",
            "1273/1273 [==============================] - 5s 4ms/step - loss: 0.5176 - accuracy: 0.7559 - auc: 0.6786 - val_loss: 0.5075 - val_accuracy: 0.7723 - val_auc: 0.6604\n",
            "\n",
            "Epoch 00003: val_auc improved from 0.64575 to 0.66043, saving model to model1.hdf5\n",
            "Epoch 4/25\n",
            "1273/1273 [==============================] - 5s 4ms/step - loss: 0.5070 - accuracy: 0.7598 - auc: 0.7017 - val_loss: 0.5079 - val_accuracy: 0.7700 - val_auc: 0.6616\n",
            "\n",
            "Epoch 00004: val_auc improved from 0.66043 to 0.66160, saving model to model1.hdf5\n",
            "Epoch 5/25\n",
            "1273/1273 [==============================] - 5s 4ms/step - loss: 0.4899 - accuracy: 0.7685 - auc: 0.7206 - val_loss: 0.5112 - val_accuracy: 0.7620 - val_auc: 0.6621\n",
            "\n",
            "Epoch 00005: val_auc improved from 0.66160 to 0.66213, saving model to model1.hdf5\n",
            "Epoch 6/25\n",
            "1273/1273 [==============================] - 5s 4ms/step - loss: 0.4839 - accuracy: 0.7679 - auc: 0.7391 - val_loss: 0.5204 - val_accuracy: 0.7581 - val_auc: 0.6589\n",
            "\n",
            "Epoch 00006: val_auc did not improve from 0.66213\n",
            "Epoch 7/25\n",
            "1273/1273 [==============================] - 5s 4ms/step - loss: 0.4673 - accuracy: 0.7777 - auc: 0.7560 - val_loss: 0.5241 - val_accuracy: 0.7639 - val_auc: 0.6505\n",
            "\n",
            "Epoch 00007: val_auc did not improve from 0.66213\n",
            "Epoch 8/25\n",
            "1273/1273 [==============================] - 5s 4ms/step - loss: 0.4567 - accuracy: 0.7812 - auc: 0.7815 - val_loss: 0.5411 - val_accuracy: 0.7625 - val_auc: 0.6473\n",
            "\n",
            "Epoch 00008: val_auc did not improve from 0.66213\n",
            "Epoch 9/25\n",
            "1273/1273 [==============================] - 5s 4ms/step - loss: 0.4390 - accuracy: 0.7927 - auc: 0.7991 - val_loss: 0.5414 - val_accuracy: 0.7557 - val_auc: 0.6521\n",
            "\n",
            "Epoch 00009: val_auc did not improve from 0.66213\n",
            "Epoch 10/25\n",
            "1273/1273 [==============================] - 5s 4ms/step - loss: 0.4229 - accuracy: 0.7996 - auc: 0.8181 - val_loss: 0.5616 - val_accuracy: 0.7454 - val_auc: 0.6462\n",
            "\n",
            "Epoch 00010: val_auc did not improve from 0.66213\n",
            "Epoch 11/25\n",
            "1273/1273 [==============================] - 5s 4ms/step - loss: 0.4076 - accuracy: 0.8111 - auc: 0.8279 - val_loss: 0.5917 - val_accuracy: 0.7385 - val_auc: 0.6447\n",
            "\n",
            "Epoch 00011: val_auc did not improve from 0.66213\n",
            "Epoch 12/25\n",
            "1273/1273 [==============================] - 5s 4ms/step - loss: 0.3920 - accuracy: 0.8179 - auc: 0.8461 - val_loss: 0.6236 - val_accuracy: 0.7451 - val_auc: 0.6412\n",
            "\n",
            "Epoch 00012: val_auc did not improve from 0.66213\n",
            "Epoch 13/25\n",
            "1273/1273 [==============================] - 5s 4ms/step - loss: 0.3755 - accuracy: 0.8266 - auc: 0.8627 - val_loss: 0.6192 - val_accuracy: 0.7486 - val_auc: 0.6382\n",
            "\n",
            "Epoch 00013: val_auc did not improve from 0.66213\n",
            "Epoch 14/25\n",
            "1273/1273 [==============================] - 5s 4ms/step - loss: 0.3621 - accuracy: 0.8303 - auc: 0.8709 - val_loss: 0.6627 - val_accuracy: 0.7413 - val_auc: 0.6326\n",
            "\n",
            "Epoch 00014: val_auc did not improve from 0.66213\n",
            "Epoch 15/25\n",
            "1273/1273 [==============================] - 5s 4ms/step - loss: 0.3445 - accuracy: 0.8421 - auc: 0.8853 - val_loss: 0.6991 - val_accuracy: 0.7245 - val_auc: 0.6317\n",
            "\n",
            "Epoch 00015: val_auc did not improve from 0.66213\n",
            "Epoch 16/25\n",
            "1273/1273 [==============================] - 5s 4ms/step - loss: 0.3299 - accuracy: 0.8499 - auc: 0.8931 - val_loss: 0.7221 - val_accuracy: 0.7286 - val_auc: 0.6299\n",
            "\n",
            "Epoch 00016: val_auc did not improve from 0.66213\n",
            "Epoch 17/25\n",
            "1273/1273 [==============================] - 5s 4ms/step - loss: 0.3215 - accuracy: 0.8538 - auc: 0.9002 - val_loss: 0.7253 - val_accuracy: 0.7232 - val_auc: 0.6266\n",
            "\n",
            "Epoch 00017: val_auc did not improve from 0.66213\n",
            "Epoch 18/25\n",
            "1273/1273 [==============================] - 5s 4ms/step - loss: 0.3018 - accuracy: 0.8643 - auc: 0.9127 - val_loss: 0.7687 - val_accuracy: 0.7081 - val_auc: 0.6206\n",
            "\n",
            "Epoch 00018: val_auc did not improve from 0.66213\n",
            "Epoch 19/25\n",
            "1273/1273 [==============================] - 5s 4ms/step - loss: 0.2964 - accuracy: 0.8663 - auc: 0.9152 - val_loss: 0.8549 - val_accuracy: 0.7274 - val_auc: 0.6202\n",
            "\n",
            "Epoch 00019: val_auc did not improve from 0.66213\n",
            "Epoch 20/25\n",
            "1273/1273 [==============================] - 5s 4ms/step - loss: 0.2894 - accuracy: 0.8697 - auc: 0.9197 - val_loss: 0.8715 - val_accuracy: 0.7017 - val_auc: 0.6195\n",
            "\n",
            "Epoch 00020: val_auc did not improve from 0.66213\n",
            "Epoch 21/25\n",
            "1273/1273 [==============================] - 5s 4ms/step - loss: 0.2865 - accuracy: 0.8703 - auc: 0.9238 - val_loss: 0.9306 - val_accuracy: 0.6895 - val_auc: 0.6148\n",
            "\n",
            "Epoch 00021: val_auc did not improve from 0.66213\n",
            "Epoch 22/25\n",
            "1273/1273 [==============================] - 5s 4ms/step - loss: 0.2689 - accuracy: 0.8772 - auc: 0.9317 - val_loss: 0.9118 - val_accuracy: 0.7034 - val_auc: 0.6126\n",
            "\n",
            "Epoch 00022: val_auc did not improve from 0.66213\n",
            "Epoch 23/25\n",
            "1273/1273 [==============================] - 5s 4ms/step - loss: 0.2640 - accuracy: 0.8820 - auc: 0.9342 - val_loss: 0.9548 - val_accuracy: 0.7188 - val_auc: 0.6184\n",
            "\n",
            "Epoch 00023: val_auc did not improve from 0.66213\n",
            "Epoch 24/25\n",
            "1273/1273 [==============================] - 5s 4ms/step - loss: 0.2549 - accuracy: 0.8849 - auc: 0.9387 - val_loss: 0.9799 - val_accuracy: 0.7169 - val_auc: 0.6169\n",
            "\n",
            "Epoch 00024: val_auc did not improve from 0.66213\n",
            "Epoch 25/25\n",
            "1273/1273 [==============================] - 5s 4ms/step - loss: 0.2479 - accuracy: 0.8898 - auc: 0.9420 - val_loss: 1.0841 - val_accuracy: 0.7255 - val_auc: 0.6095\n",
            "\n",
            "Epoch 00025: val_auc did not improve from 0.66213\n"
          ],
          "name": "stdout"
        }
      ]
    },
    {
      "cell_type": "code",
      "metadata": {
        "id": "fOT4MkJq8p3P",
        "colab": {
          "base_uri": "https://localhost:8080/"
        },
        "outputId": "6450088b-ede8-40f8-960d-03c042dd151b"
      },
      "source": [
        "import keras\n",
        "clf = keras.models.load_model('model1.hdf5')\n",
        "print(f'AUC Value for train data : {roc_auc_score(y_train, clf.predict(X_train))}')\n",
        "print(f'AUC Value for validation data : {roc_auc_score(y_val, clf.predict(X_val))}')"
      ],
      "execution_count": null,
      "outputs": [
        {
          "output_type": "stream",
          "text": [
            "AUC Value for train data : 0.7555113481396805\n",
            "AUC Value for validation data : 0.6622113800711457\n"
          ],
          "name": "stdout"
        }
      ]
    },
    {
      "cell_type": "markdown",
      "metadata": {
        "id": "zkDPc_dvvoB2"
      },
      "source": [
        "pred = pd.Series(pd.Series(clf.predict(X_test).flatten()), name='Response')\n",
        "fy = pd.concat([ids, pred], axis=1)\n",
        "fy.to_csv('/content/gdrive/MyDrive/Finman/test5.csv', index=False) "
      ]
    }
  ]
}